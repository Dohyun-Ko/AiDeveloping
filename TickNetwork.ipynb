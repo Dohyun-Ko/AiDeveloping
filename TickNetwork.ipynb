{
  "nbformat": 4,
  "nbformat_minor": 0,
  "metadata": {
    "colab": {
      "name": "TickNetwork.ipynb",
      "provenance": [],
      "collapsed_sections": [],
      "authorship_tag": "ABX9TyM9H2PaHMiAjCsDNQxvzo/2",
      "include_colab_link": true
    },
    "kernelspec": {
      "name": "python3",
      "display_name": "Python 3"
    },
    "language_info": {
      "name": "python"
    }
  },
  "cells": [
    {
      "cell_type": "markdown",
      "metadata": {
        "id": "view-in-github",
        "colab_type": "text"
      },
      "source": [
        "<a href=\"https://colab.research.google.com/github/pvoipt/AiDeveloping/blob/main/TickNetwork.ipynb\" target=\"_parent\"><img src=\"https://colab.research.google.com/assets/colab-badge.svg\" alt=\"Open In Colab\"/></a>"
      ]
    },
    {
      "cell_type": "code",
      "metadata": {
        "id": "aucDoVm17E0b"
      },
      "source": [
        "import numpy as np\n",
        "from tensorflow.keras.datasets import mnist\n",
        "from tensorflow.keras.utils import to_categorical  # one-hot encoding 을 위한 함수\n",
        "from tensorflow.keras.models import Sequential  # 레이어를 층층히 쌓아가는 연쇄 모델\n",
        "from tensorflow.keras.layers import Dense  # 완전연결층\n",
        "from tensorflow.keras.models import load_model  # 저장된 모델 불러오기"
      ],
      "execution_count": 1,
      "outputs": []
    },
    {
      "cell_type": "markdown",
      "metadata": {
        "id": "GoI27LUBN3RN"
      },
      "source": [
        "\"\"\"퍼셉트론 설계\n",
        "      데이터 처리 용이함을 위해 행렬 사용\n",
        "\n",
        "   신경망 설계\n",
        "      각 퍼셉트론에서 다음 퍼셉트론으로 값을 전달하는 것을 시간 1로 침(모든 퍼셉트론이 동시에 작동하게 하기 위함)\n",
        "      작동 방법\n",
        "        1. 지정 숫자만큼 퍼셉트론 생성\n",
        "        2. 퍼셉트론별로 \n",
        "\n",
        "   퍼셉트론 클래스, 신경망 생성 클래스를 따로\n",
        "\"\"\""
      ]
    },
    {
      "cell_type": "code",
      "metadata": {
        "id": "rlzW7vboALE4"
      },
      "source": [
        "def stepF(X):\n",
        "  if np.sum(X) > 0.3:\n",
        "    return 1\n",
        "  else:\n",
        "    return 0"
      ],
      "execution_count": 2,
      "outputs": []
    },
    {
      "cell_type": "code",
      "metadata": {
        "id": "_xL-1P2q2hwB"
      },
      "source": [
        "def ReLU(X):\n",
        "  return np.maximum(0, np.sum(X))"
      ],
      "execution_count": 3,
      "outputs": []
    },
    {
      "cell_type": "code",
      "metadata": {
        "id": "eB0mv0ehPOgC"
      },
      "source": [
        "def SSE(y, t):    #sum of squares for error, 오차제곱합\n",
        "  return 0.5 * np.sum((y - t)**2)"
      ],
      "execution_count": 4,
      "outputs": []
    },
    {
      "cell_type": "code",
      "metadata": {
        "id": "-qyAFBmtsr4n"
      },
      "source": [
        "class Perceptron:\n",
        "  def __init__(self, size, nSpN, role, sumType, nextSize):\n",
        "    self.role = role\n",
        "    if role == \"sensory\":       #감각뉴런이라면 가중치 1 (원본 그대로 반영)\n",
        "      self.wgt = np.ones(100)\n",
        "    elif role == \"inter\":       #연결뉴런이라면 가중치 0~1 랜덤\n",
        "      self.wgt = np.random.rand(100)\n",
        "    elif role == \"motor\":\n",
        "      pass\n",
        "    self.size = size\n",
        "    if nextSize == -1:\n",
        "      self.nextSize = size\n",
        "    else:\n",
        "      self.nextSize = nextSize\n",
        "    self.sumType = sumType\n",
        "    self.nSpN = nSpN    # nSpN = the number of Synapse per Neuron : 뉴런별로 뻗어나갈 시냅스 수\n",
        "    self.X = []       #입력값 받는 리스트\n",
        "    self.summation = 0      #가중치을 더하는 변수 (시간적 가중 용)\n",
        "  def connectNeuron(self):\n",
        "    self.cN = np.random.randint(0, self.nextSize, self.nSpN)    #랜덤하게 시냅스 연결\n",
        "  def input_(self, X):    #값 입력받음\n",
        "    self.X += X\n",
        "  def out(self):\n",
        "    self.WX = self.X*self.wgt[:len(self.X)]   #가중치와 입력 곱함\n",
        "    if self.role == \"inter\":\n",
        "      self.X = []\n",
        "    if self.role == \"motor\":\n",
        "      return 0\n",
        "    else:\n",
        "      if self.sumType == \"spatial\":      #공간적/시간적 가중에 따라 활성화 방식 다름\n",
        "        return stepF(self.WX)\n",
        "      elif self.sumType == \"temporal\":\n",
        "        self.summation += np.sum(self.WX)\n",
        "        if self.summation >= 1:\n",
        "          self.summation -= 1\n",
        "          return 1\n",
        "        else:\n",
        "          return 0"
      ],
      "execution_count": 5,
      "outputs": []
    },
    {
      "cell_type": "code",
      "metadata": {
        "id": "zFhJ9SXUClze"
      },
      "source": [
        "class Network:\n",
        "  def __init__(self, size, nSpN, nInputLayer, nOutputLayer): #nSpN = the number of Synapse per Neuron\n",
        "    self.size = size\n",
        "    self.nSpN = nSpN\n",
        "    self.inputLayer = []\n",
        "    self.neuron = []\n",
        "    self.nInputLayer = nInputLayer\n",
        "    self.nOutputLayer = nOutputLayer\n",
        "    self.inputTable = []\n",
        "  def newNeuron(self, list_, role, nextSize):\n",
        "    n = Perceptron(self.size, self.nSpN, role, \"temporal\", nextSize)\n",
        "    n.connectNeuron()\n",
        "    list_.append(n)\n",
        "  def makeup(self):\n",
        "    for i in range(self.nInputLayer):         #입력뉴런(감각뉴런) 생성\n",
        "      n = Perceptron(self.size, self.nSpN, \"sensory\", \"temporal\", self.size)\n",
        "      n.connectNeuron()\n",
        "      self.inputLayer.append(n)\n",
        "    for i in range(self.size):      #연결뉴런 생성\n",
        "      n = Perceptron(self.size, self.nSpN, \"inter\", \"temporal\", self.size + self.nOutputLayer)\n",
        "      n.connectNeuron()\n",
        "      self.neuron.append(n)\n",
        "    for i in range(self.nOutputLayer):\n",
        "      n = Perceptron(self.size, self.nSpN, \"motor\", \"temporal\", -1)\n",
        "      self.neuron.append(n)\n",
        "  def input_(self):     #입력층 입력\n",
        "    for i in range(self.size + self.nOutputLayer):\n",
        "      self.inputTable.append([])\n",
        "    for i in range(self.nInputLayer):\n",
        "      r = self.inputLayer[i].out()\n",
        "      for j in range(self.nSpN):\n",
        "        self.inputTable[self.inputLayer[i].cN[j]].append(r)\n",
        "  def tick(self):       #시간 경과 (틱)\n",
        "    for i in range(self.size):\n",
        "      r = self.neuron[i].out()\n",
        "      for j in range(self.nSpN):\n",
        "        self.inputTable[self.neuron[i].cN[j]].append(r)\n",
        "        \n",
        "    for i in range(self.size + self.nOutputLayer):\n",
        "      if len(self.inputTable[i]):\n",
        "        self.neuron[i].input_(self.inputTable[i])\n",
        "    self.inputTable = []\n",
        "    for i in range(self.size + self.nOutputLayer):\n",
        "      self.inputTable.append([])\n",
        "  def output(self):     #출력층 출력\n",
        "      self.out = []\n",
        "      for i in range(self.size, self.size + self.nOutputLayer):\n",
        "        self.out.append(np.sum(self.neuron[i].X))\n",
        "      return self.out / np.sum(self.out)"
      ],
      "execution_count": 6,
      "outputs": []
    },
    {
      "cell_type": "code",
      "metadata": {
        "id": "SiaViLkbQka2"
      },
      "source": [
        "#MNIST\n",
        "(X_train, y_train), (X_test, y_test) = mnist.load_data()\n",
        "\n",
        "input_shape = X_train.shape[1] * X_train.shape[2] #그림 크기 (28*28)\n",
        "number_of_classes = len(set(y_train))\n",
        "\n",
        "X_train = X_train / 255.0  #정규화\n",
        "X_test = X_test / 255.0\n",
        "X_train = X_train.reshape(-1, input_shape) #차원 낮추기\n",
        "X_test = X_test.reshape(-1, input_shape)\n",
        "\n",
        "y_train = to_categorical(y_train, number_of_classes) #원-핫 인코딩\n",
        "y_test = to_categorical(y_test, number_of_classes)"
      ],
      "execution_count": 7,
      "outputs": []
    },
    {
      "cell_type": "code",
      "metadata": {
        "id": "8BbI3hnV0GS9",
        "colab": {
          "base_uri": "https://localhost:8080/"
        },
        "outputId": "98f87ff2-4e5e-4c58-955c-9e8cbb789c8b"
      },
      "source": [
        "print(np.shape(X_train))\n",
        "\n",
        "X_train[0][550]"
      ],
      "execution_count": 8,
      "outputs": [
        {
          "output_type": "stream",
          "text": [
            "(60000, 784)\n"
          ],
          "name": "stdout"
        },
        {
          "output_type": "execute_result",
          "data": {
            "text/plain": [
              "0.9803921568627451"
            ]
          },
          "metadata": {
            "tags": []
          },
          "execution_count": 8
        }
      ]
    },
    {
      "cell_type": "code",
      "metadata": {
        "id": "uVZ7dMEw1OEU"
      },
      "source": [
        "n = []\n",
        "total = []\n",
        "for a in range(10):\n",
        "  n.append(Network(10000, 10, 784, 10))\n",
        "  n[a].makeup()\n",
        "  t = 0\n",
        "  for i in range(10):\n",
        "    for j in range(784):\n",
        "      n[a].inputLayer[j].input_([X_train[i][j]])\n",
        "    for k in range(5):\n",
        "      n[a].input_()\n",
        "      n[a].tick()\n",
        "    t += SSE(y_train[i], n[a].output())\n",
        "  total.append(t)\n",
        "  \n",
        "    \n"
      ],
      "execution_count": 9,
      "outputs": []
    },
    {
      "cell_type": "code",
      "metadata": {
        "colab": {
          "base_uri": "https://localhost:8080/"
        },
        "id": "7jtZDJm4aid6",
        "outputId": "5c23d14b-e810-446b-90ca-937b9a01620d"
      },
      "source": [
        "total"
      ],
      "execution_count": 11,
      "outputs": [
        {
          "output_type": "execute_result",
          "data": {
            "text/plain": [
              "[4.508515946680563,\n",
              " 4.6129597813861904,\n",
              " 4.657810866312001,\n",
              " 4.663671013819764,\n",
              " 4.569778191072963,\n",
              " 4.444110020683776,\n",
              " 4.929257394546239,\n",
              " 4.855791686942335,\n",
              " 4.494827995198796,\n",
              " 4.581200732956355]"
            ]
          },
          "metadata": {
            "tags": []
          },
          "execution_count": 11
        }
      ]
    }
  ]
}