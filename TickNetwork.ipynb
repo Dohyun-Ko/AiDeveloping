{
  "nbformat": 4,
  "nbformat_minor": 0,
  "metadata": {
    "colab": {
      "name": "TickNetwork.ipynb",
      "provenance": [],
      "collapsed_sections": [],
      "authorship_tag": "ABX9TyO7fHZz3y7H65ZqWtnOQLae",
      "include_colab_link": true
    },
    "kernelspec": {
      "display_name": "Python 3",
      "name": "python3"
    },
    "language_info": {
      "name": "python"
    }
  },
  "cells": [
    {
      "cell_type": "markdown",
      "metadata": {
        "id": "view-in-github",
        "colab_type": "text"
      },
      "source": [
        "<a href=\"https://colab.research.google.com/github/pvoipt/AiDeveloping/blob/main/TickNetwork.ipynb\" target=\"_parent\"><img src=\"https://colab.research.google.com/assets/colab-badge.svg\" alt=\"Open In Colab\"/></a>"
      ]
    },
    {
      "cell_type": "code",
      "metadata": {
        "id": "aucDoVm17E0b"
      },
      "source": [
        "import numpy as np\n",
        "from tensorflow.keras.datasets import mnist\n",
        "from tensorflow.keras.utils import to_categorical  # one-hot encoding 을 위한 함수\n",
        "from tensorflow.keras.models import Sequential  # 레이어를 층층히 쌓아가는 연쇄 모델\n",
        "from tensorflow.keras.layers import Dense  # 완전연결층\n",
        "from tensorflow.keras.models import load_model  # 저장된 모델 불러오기"
      ],
      "execution_count": 1,
      "outputs": []
    },
    {
      "cell_type": "markdown",
      "metadata": {
        "id": "GoI27LUBN3RN"
      },
      "source": [
        "\"\"\"퍼셉트론 설계\n",
        "      데이터 처리 용이함을 위해 행렬 사용\n",
        "\n",
        "   신경망 설계\n",
        "      각 퍼셉트론에서 다음 퍼셉트론으로 값을 전달하는 것을 시간 1로 침(모든 퍼셉트론이 동시에 작동하게 하기 위함)\n",
        "      작동 방법\n",
        "        1. 지정 숫자만큼 퍼셉트론 생성\n",
        "        2. 퍼셉트론별로 \n",
        "\n",
        "   퍼셉트론 클래스, 신경망 생성 클래스를 따로\n",
        "\"\"\""
      ]
    },
    {
      "cell_type": "code",
      "metadata": {
        "id": "rlzW7vboALE4"
      },
      "source": [
        "def stepF(X):\n",
        "  if np.sum(X) > 0.3:\n",
        "    return 1\n",
        "  else:\n",
        "    return 0"
      ],
      "execution_count": 2,
      "outputs": []
    },
    {
      "cell_type": "code",
      "metadata": {
        "id": "_xL-1P2q2hwB"
      },
      "source": [
        "def ReLU(X):\n",
        "  return np.maximum(0, np.sum(X))"
      ],
      "execution_count": 3,
      "outputs": []
    },
    {
      "cell_type": "code",
      "metadata": {
        "id": "eB0mv0ehPOgC"
      },
      "source": [
        "def SSE(y, t):    #sum of squares for error, 오차제곱합\n",
        "  return 0.5 * np.sum((y - t)**2)"
      ],
      "execution_count": 4,
      "outputs": []
    },
    {
      "cell_type": "code",
      "metadata": {
        "id": "aPmQOvlsl7TI"
      },
      "source": [
        "def randGene(n):      #무작위 유전자 생성\n",
        "  return np.random.binomial(1, 0.5, n)"
      ],
      "execution_count": 5,
      "outputs": []
    },
    {
      "cell_type": "code",
      "metadata": {
        "id": "Upg2gg-SmzcL"
      },
      "source": [
        "def GTV(gene):  #Gene To Value\n",
        "  if isinstance(gene, np.float64):\n",
        "    return 1\n",
        "  else:\n",
        "    bi = ''\n",
        "    for i in gene:\n",
        "      bi += str(i)\n",
        "    return int(bi, 2)"
      ],
      "execution_count": 6,
      "outputs": []
    },
    {
      "cell_type": "code",
      "metadata": {
        "id": "-qyAFBmtsr4n"
      },
      "source": [
        "class Perceptron:\n",
        "  def __init__(self, size, nSpN, maxInput, role, sumType, nextSize):\n",
        "    self.role = role\n",
        "    #if role == \"sensory\":       #감각뉴런이라면 가중치 1 (원본 그대로 반영)\n",
        "      #self.wgtGene = np.ones(100)\n",
        "    if role == \"inter\":       #연결뉴런이라면 가중치 0~1 랜덤\n",
        "      self.wgtGene = []\n",
        "      for i in range(maxInput):\n",
        "        self.wgtGene.append(randGene(8))\n",
        "    elif role == \"motor\":\n",
        "      pass\n",
        "    self.size = size\n",
        "    if nextSize == -1:\n",
        "      self.nextSize = size\n",
        "    else:\n",
        "      self.nextSize = nextSize\n",
        "    self.sumType = sumType\n",
        "    self.nSpN = nSpN    # nSpN = the number of Synapse per Neuron : 뉴런별로 뻗어나갈 시냅스 수\n",
        "    self.X = []       #입력값 받는 리스트\n",
        "    self.summation = 0      #가중치을 더하는 변수 (시간적 가중 용)\n",
        "    self.maxInput = maxInput #최대 입력(최대 연결될 수 있는 시냅스 수)(넘어가면 무시)\n",
        "  def connectNeuron(self):\n",
        "    self.cN = np.random.randint(0, self.nextSize, self.nSpN)    #랜덤하게 시냅스 연결\n",
        "  def calWgt(self):       #가중치 유전자를 값으로 변환\n",
        "    self.wgt  = []\n",
        "    for i in range(self.maxInput):\n",
        "      self.wgt = np.append(self.wgt, GTV(self.wgtGene[i])/ 2**8)\n",
        "  def input_(self, X):    #값 입력받음\n",
        "    if len(self.X) + len(X) < self.maxInput or self.role == \"motor\":\n",
        "      self.X += X\n",
        "  def out(self):\n",
        "    if self.role == \"sensory\":\n",
        "      self.WX = self.X\n",
        "    if self.role == \"inter\":\n",
        "      self.WX = np.array(self.X) * self.wgt[:len(self.X)]   #가중치와 입력 곱함\n",
        "      self.X = []\n",
        "    if self.role == \"motor\":\n",
        "      return 0\n",
        "    else:\n",
        "      if self.sumType == \"spatial\":      #공간적/시간적 가중에 따라 활성화 방식 다름\n",
        "        return stepF(self.WX)\n",
        "      elif self.sumType == \"temporal\":\n",
        "        self.summation += np.sum(self.WX)\n",
        "        if self.summation >= 1:\n",
        "          self.summation -= 1\n",
        "          return 1\n",
        "        else:\n",
        "          return 0"
      ],
      "execution_count": 7,
      "outputs": []
    },
    {
      "cell_type": "code",
      "metadata": {
        "id": "zFhJ9SXUClze"
      },
      "source": [
        "class Network:\n",
        "  def __init__(self, size, nSpN, maxInput, nInputLayer, nOutputLayer): #nSpN = the number of Synapse per Neuron\n",
        "    self.size = size\n",
        "    self.nSpN = nSpN\n",
        "    self.maxInput = maxInput\n",
        "    self.inputLayer = []\n",
        "    self.neuron = []\n",
        "    self.nInputLayer = nInputLayer\n",
        "    self.nOutputLayer = nOutputLayer\n",
        "    self.inputTable = []\n",
        "  def makeup(self):\n",
        "    for i in range(self.nInputLayer):         #입력뉴런(감각뉴런) 생성\n",
        "      n = Perceptron(self.size, self.nSpN, self.maxInput, \"sensory\", \"temporal\", self.size)\n",
        "      n.connectNeuron()\n",
        "      self.inputLayer.append(n)\n",
        "    for i in range(self.size):      #연결뉴런 생성\n",
        "      n = Perceptron(self.size, self.nSpN, self.maxInput, \"inter\", \"temporal\", self.size + self.nOutputLayer)\n",
        "      n.connectNeuron()\n",
        "      self.neuron.append(n)\n",
        "    for i in range(self.nOutputLayer):\n",
        "      n = Perceptron(self.size, self.nSpN, self.maxInput, \"motor\", \"temporal\", -1)\n",
        "      self.neuron.append(n)\n",
        "  def calNeuronWgt(self):\n",
        "    for i in range(self.size):\n",
        "      self.neuron[i].calWgt()\n",
        "  def input_(self):     #입력층 입력\n",
        "    for i in range(self.size + self.nOutputLayer):\n",
        "      self.inputTable.append([])\n",
        "    for i in range(self.nInputLayer):\n",
        "      r = self.inputLayer[i].out()\n",
        "      for j in range(self.nSpN):\n",
        "        self.inputTable[self.inputLayer[i].cN[j]].append(r)\n",
        "  def tick(self):       #시간 경과 (틱)\n",
        "    for i in range(self.size):\n",
        "      r = self.neuron[i].out()\n",
        "      for j in range(self.nSpN):\n",
        "        self.inputTable[self.neuron[i].cN[j]].append(r)\n",
        "        \n",
        "    for i in range(self.size + self.nOutputLayer):\n",
        "      if len(self.inputTable[i]):\n",
        "        self.neuron[i].input_(self.inputTable[i])\n",
        "    self.inputTable = []\n",
        "    for i in range(self.size + self.nOutputLayer):\n",
        "      self.inputTable.append([])\n",
        "  def output(self):     #출력층 출력\n",
        "      self.out = []\n",
        "      for i in range(self.size, self.size + self.nOutputLayer):\n",
        "        self.out.append(np.sum(self.neuron[i].X))\n",
        "      return np.array(self.out) / np.sum(self.out)"
      ],
      "execution_count": 8,
      "outputs": []
    },
    {
      "cell_type": "code",
      "metadata": {
        "id": "8Tl92GWovuCP"
      },
      "source": [
        "def breed(p1, p2):        #자손 생성 함수 p1 : 부모 1, p2 : 부모 2\n",
        "  offspring = p1\n",
        "  #newGene = []\n",
        "  newChromosome = []\n",
        "  for i in range(p1.size):\n",
        "    for j in range(p1.maxInput):\n",
        "      rand = np.random.binomial(1, 0.5, 1)[0]    #50% 확률 구현\n",
        "      if rand:\n",
        "        newChromosome.append(p1.neuron[i].wgt[j])\n",
        "      else:\n",
        "        newChromosome.append(p2.neuron[i].wgt[j])\n",
        "    #newGene.append(newChromosome)\n",
        "\n",
        "  for i in range(offspring.size):\n",
        "    offspring.neuron[i].wgt = newChromosome\n",
        "  \n",
        "  return offspring\n",
        "  "
      ],
      "execution_count": 9,
      "outputs": []
    },
    {
      "cell_type": "code",
      "metadata": {
        "id": "SiaViLkbQka2"
      },
      "source": [
        "#MNIST\n",
        "(X_train, y_train), (X_test, y_test) = mnist.load_data()\n",
        "\n",
        "input_shape = X_train.shape[1] * X_train.shape[2] #그림 크기 (28*28)\n",
        "number_of_classes = len(set(y_train))\n",
        "\n",
        "X_train = X_train / 255.0  #정규화\n",
        "X_test = X_test / 255.0\n",
        "X_train = X_train.reshape(-1, input_shape) #차원 낮추기\n",
        "X_test = X_test.reshape(-1, input_shape)\n",
        "\n",
        "y_train = to_categorical(y_train, number_of_classes) #원-핫 인코딩\n",
        "y_test = to_categorical(y_test, number_of_classes)"
      ],
      "execution_count": 10,
      "outputs": []
    },
    {
      "cell_type": "code",
      "metadata": {
        "colab": {
          "base_uri": "https://localhost:8080/"
        },
        "id": "8BbI3hnV0GS9",
        "outputId": "63008b3d-080c-4b0f-9f10-bd7408843762"
      },
      "source": [
        "print(np.shape(X_train))\n",
        "\n",
        "X_train[0][550]"
      ],
      "execution_count": 11,
      "outputs": [
        {
          "output_type": "stream",
          "text": [
            "(60000, 784)\n"
          ],
          "name": "stdout"
        },
        {
          "output_type": "execute_result",
          "data": {
            "text/plain": [
              "0.9803921568627451"
            ]
          },
          "metadata": {
            "tags": []
          },
          "execution_count": 11
        }
      ]
    },
    {
      "cell_type": "code",
      "metadata": {
        "id": "4GelxTVD0n7M"
      },
      "source": [
        "def test(n):\n",
        "  total = []\n",
        "  for a in range(10):\n",
        "    t = 0\n",
        "    for i in range(10):\n",
        "      for j in range(784):\n",
        "        n[a].inputLayer[j].input_([X_train[i][j]])\n",
        "      for k in range(5):\n",
        "        n[a].input_()\n",
        "        n[a].tick()\n",
        "      t += SSE(y_train[i], n[a].output())\n",
        "    total.append(t)\n",
        "  return total"
      ],
      "execution_count": 12,
      "outputs": []
    },
    {
      "cell_type": "code",
      "metadata": {
        "id": "uVZ7dMEw1OEU"
      },
      "source": [
        "def shift_of_generation():\n",
        "  n = []\n",
        "  total = []\n",
        "  for i in range(10):\n",
        "    n.append(Network(10000, 10, 30, 784, 10))\n",
        "    n[i].makeup()\n",
        "    n[i].calNeuronWgt()\n",
        "  total = test(n)\n",
        "  print(total)\n",
        "  p1 = np.argmin(total)\n",
        "  del total[p1]\n",
        "  p2 = np.argmin(total)\n",
        "\n",
        "  o = []\n",
        "  for i in range(10):             #자손 10 생성\n",
        "    o.append(breed(n[p1], n[p2]))   \n",
        "  total2 = test(o)\n",
        "  print(total2)\n",
        "  \n"
      ],
      "execution_count": 13,
      "outputs": []
    },
    {
      "cell_type": "code",
      "metadata": {
        "colab": {
          "base_uri": "https://localhost:8080/"
        },
        "id": "c-EXdNIA20Gw",
        "outputId": "e11cd009-5e01-46d6-ccd0-8f155a3fdd24"
      },
      "source": [
        "shift_of_generation()"
      ],
      "execution_count": 14,
      "outputs": [
        {
          "output_type": "stream",
          "text": [
            "[4.72222160009037, 4.447381031431976, 4.360466910705539, 4.416439798857779, 4.602730164336168, 4.454437831772813, 4.710306130487718, 4.489495056553921, 4.708467531398645, 4.552334401801595]\n",
            "[4.383401763673596, 4.383788920410647, 4.383954447210018, 4.384046655182818, 4.384105481939262, 4.384146290938282, 4.384176265708795, 4.384199217182445, 4.384217355842224, 4.384232052331012]\n"
          ],
          "name": "stdout"
        }
      ]
    }
  ]
}